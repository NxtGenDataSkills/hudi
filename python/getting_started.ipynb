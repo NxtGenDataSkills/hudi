{
 "cells": [
  {
   "cell_type": "code",
   "execution_count": 13,
   "metadata": {},
   "outputs": [],
   "source": [
    "import pyspark\n",
    "from pyspark.sql import SparkSession"
   ]
  },
  {
   "cell_type": "code",
   "execution_count": 14,
   "metadata": {},
   "outputs": [],
   "source": [
    "import findspark\n",
    "findspark.init()"
   ]
  },
  {
   "cell_type": "code",
   "execution_count": 15,
   "metadata": {},
   "outputs": [],
   "source": [
    "import os\n",
    "os.getenv('SPARK_HOME')\n",
    "#os.environ['JAVA_HOME'] = \"C:\\\\Program Files\\\\Java\\\\jdk1.8.0_181\\\\\""
   ]
  },
  {
   "cell_type": "code",
   "execution_count": 16,
   "metadata": {},
   "outputs": [],
   "source": [
    "spark = SparkSession.builder.master(\"local[1]\").appName(\"\").getOrCreate()"
   ]
  },
  {
   "cell_type": "code",
   "execution_count": 19,
   "metadata": {},
   "outputs": [],
   "source": [
    "spark = SparkSession.builder \\\n",
    "    .master(\"local\") \\\n",
    "    .appName(\"hudi\") \\\n",
    "    .config(\"spark.serialize\", \"org.apache.spark.serializer.KryoSerializer\") \\\n",
    "    .config(\"spark.jars\", \"jars/hudi-spark3-bundle_2.12-0.13.1.jar\") \\\n",
    "    .getOrCreate()"
   ]
  },
  {
   "cell_type": "code",
   "execution_count": 20,
   "metadata": {},
   "outputs": [],
   "source": [
    "df = spark.read.option(\"header\",\"true\").csv(\"dataset/remove_dedup.csv\")"
   ]
  },
  {
   "cell_type": "code",
   "execution_count": 21,
   "metadata": {},
   "outputs": [
    {
     "name": "stdout",
     "output_type": "stream",
     "text": [
      "+--------------------+----------------+----------+-----+------+---+-----+----------+\n",
      "|              emp_id|   employee_name|department|state|salary|age|bonus|        ts|\n",
      "+--------------------+----------------+----------+-----+------+---+-----+----------+\n",
      "|210fc759-7876-42f...|   Martin Hunter|        IT|   RJ| 31224| 51|11695| 732689572|\n",
      "|53c3056c-1caa-4ff...|  Michael Jarvis|        IT|   IL| 12786| 22|15603| 734277461|\n",
      "|b8dfface-4a4a-4ca...|Dr. Jordan Moore|        IT|   FL| 80500| 48|80856|1465663608|\n",
      "|f2f3213c-2048-4c5...|    Anthony Park|        IT|   IL|124229| 40|12819| 212696689|\n",
      "|e550eae0-c837-49b...|    Jennifer Ray| Marketing|   IL| 12583| 26|66718| 974834879|\n",
      "|210fc759-7876-42f...|   Martin Hunter|        IT|   RJ| 31224| 51|11695| 732689572|\n",
      "|53c3056c-1caa-4ff...|  Michael Jarvis|        IT|   IL| 12786| 22|15603| 734277461|\n",
      "|b8dfface-4a4a-4ca...|Dr. Jordan Moore|        IT|   FL| 80500| 48|80856|1465663608|\n",
      "+--------------------+----------------+----------+-----+------+---+-----+----------+\n",
      "\n"
     ]
    }
   ],
   "source": [
    "df.show()"
   ]
  },
  {
   "cell_type": "code",
   "execution_count": null,
   "metadata": {},
   "outputs": [],
   "source": []
  }
 ],
 "metadata": {
  "kernelspec": {
   "display_name": "hudi_venv",
   "language": "python",
   "name": "python3"
  },
  "language_info": {
   "codemirror_mode": {
    "name": "ipython",
    "version": 3
   },
   "file_extension": ".py",
   "mimetype": "text/x-python",
   "name": "python",
   "nbconvert_exporter": "python",
   "pygments_lexer": "ipython3",
   "version": "3.8.5"
  },
  "orig_nbformat": 4
 },
 "nbformat": 4,
 "nbformat_minor": 2
}
